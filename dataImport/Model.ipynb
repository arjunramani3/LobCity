{
 "cells": [
  {
   "cell_type": "code",
   "execution_count": 1,
   "metadata": {},
   "outputs": [],
   "source": [
    "import numpy as np\n",
    "import sklearn\n",
    "import pandas as pd\n",
    "import matplotlib.pyplot as plt\n",
    "import seaborn as sns"
   ]
  },
  {
   "cell_type": "code",
   "execution_count": 2,
   "metadata": {},
   "outputs": [],
   "source": [
    "data = pd.read_csv(\"trimmed.csv\")"
   ]
  },
  {
   "cell_type": "code",
   "execution_count": 3,
   "metadata": {},
   "outputs": [
    {
     "name": "stdout",
     "output_type": "stream",
     "text": [
      "   Unnamed: 0  age  juv_fel_count  juv_misd_count  juv_other_count  \\\n",
      "0           1   27              0               0                1   \n",
      "1           2   41              0               0                0   \n",
      "2           7   54              0               0                0   \n",
      "3           8   54              0               0                0   \n",
      "4           9   54              0               0                0   \n",
      "\n",
      "   priors_count c_charge_degree                  c_charge_desc  is_recid  \\\n",
      "0            18            (F3)  Grand Theft in the 3rd Degree         0   \n",
      "1            11            (F3)             Felony Petit Theft         1   \n",
      "2            10            (F3)          Possession of Cocaine         0   \n",
      "3            10            (F3)          Possession of Cocaine         0   \n",
      "4            10            (F3)          Possession of Cocaine         0   \n",
      "\n",
      "   prison_length  \n",
      "0            510  \n",
      "1            391  \n",
      "2            231  \n",
      "3            275  \n",
      "4           1061  \n"
     ]
    }
   ],
   "source": [
    "print(data.head())"
   ]
  },
  {
   "cell_type": "code",
   "execution_count": 4,
   "metadata": {},
   "outputs": [],
   "source": [
    "data_filtered = data[[\"age\",\"priors_count\",\"c_charge_degree\",\"is_recid\",\"prison_length\"]]"
   ]
  },
  {
   "cell_type": "code",
   "execution_count": 5,
   "metadata": {},
   "outputs": [
    {
     "name": "stdout",
     "output_type": "stream",
     "text": [
      "   age  priors_count c_charge_degree  is_recid  prison_length\n",
      "0   27            18            (F3)         0            510\n",
      "1   41            11            (F3)         1            391\n",
      "2   54            10            (F3)         0            231\n",
      "3   54            10            (F3)         0            275\n",
      "4   54            10            (F3)         0           1061\n"
     ]
    }
   ],
   "source": [
    "print(data_filtered.head())"
   ]
  },
  {
   "cell_type": "code",
   "execution_count": 6,
   "metadata": {},
   "outputs": [],
   "source": [
    "def filter(data):\n",
    "    first = data.groupby('c_charge_degree').c_charge_degree.count()\n",
    "    selected = first[first > 4]\n",
    "    cols = selected.index.values.tolist()\n",
    "    data = data[data[\"c_charge_degree\"].isin(cols)]\n",
    "    print(data.head(10))\n",
    "    return data\n"
   ]
  },
  {
   "cell_type": "code",
   "execution_count": 7,
   "metadata": {},
   "outputs": [
    {
     "name": "stdout",
     "output_type": "stream",
     "text": [
      "   age  priors_count c_charge_degree  is_recid  prison_length\n",
      "0   27            18            (F3)         0            510\n",
      "1   41            11            (F3)         1            391\n",
      "2   54            10            (F3)         0            231\n",
      "3   54            10            (F3)         0            275\n",
      "4   54            10            (F3)         0           1061\n",
      "5   54            10            (F3)         0            518\n",
      "6   54            10            (F3)         0            164\n",
      "7   54            10            (F3)         0            418\n",
      "8   28             5            (F3)         0           2066\n",
      "9   38            18            (F1)         1           1062\n"
     ]
    }
   ],
   "source": [
    "data_filtered = filter(data_filtered)"
   ]
  },
  {
   "cell_type": "code",
   "execution_count": 8,
   "metadata": {},
   "outputs": [],
   "source": [
    "k = 10\n",
    "from sklearn.preprocessing import MinMaxScaler\n",
    "\n",
    "def algo(row,data):\n",
    "    charge_deg = row[\"c_charge_degree\"]\n",
    "    #print(row)\n",
    "    relevant_data = data[data[\"c_charge_degree\"] == charge_deg]\n",
    "    \n",
    "    scaler = MinMaxScaler()\n",
    "    relevant_data[[\"age\",\"priors_count\"]] = scaler.fit_transform(relevant_data[[\"age\",\"priors_count\"]])\n",
    "    \n",
    "    sample = relevant_data.copy()\n",
    "    sample[\"age\"] = row[\"age\"]\n",
    "    sample[\"priors_count\"] = row[\"priors_count\"]\n",
    "    \n",
    "    sample[[\"age\",\"priors_count\"]] = scaler.transform(sample[[\"age\",\"priors_count\"]])\n",
    "\n",
    "    relevant_data[\"dist\"] = abs(sample[\"age\"] - relevant_data[\"age\"]) + abs(sample[\"priors_count\"] - relevant_data[\"priors_count\"])\n",
    "    \n",
    "    relevant_data = relevant_data.sort_values(\"dist\")\n",
    "    \n",
    "    relevant_data = relevant_data.iloc[1:k+1,]\n",
    "    relevant_data = relevant_data[[\"is_recid\",\"prison_length\"]]\n",
    "    relevant_data[\"prison_length\"] = relevant_data[\"prison_length\"] // 365 + 1\n",
    "\n",
    "    return relevant_data\n",
    "    "
   ]
  },
  {
   "cell_type": "code",
   "execution_count": 9,
   "metadata": {},
   "outputs": [],
   "source": [
    "from collections import OrderedDict\n",
    "def kyrie(row,data):\n",
    "    relevant_data = algo(row,data)\n",
    "    dic = {}\n",
    "    #(sentence length: (num_recid,count))\n",
    "    for i in range(relevant_data.shape[0]):\n",
    "        p_length = relevant_data.iloc[i][\"prison_length\"]\n",
    "        is_recid = relevant_data.iloc[i][\"is_recid\"]\n",
    "        \n",
    "        if p_length not in dic:\n",
    "            dic[p_length] = (is_recid,1)\n",
    "        else:\n",
    "            tup1 = dic[p_length][0] + is_recid\n",
    "            tup2 = dic[p_length][1] + 1\n",
    "            dic[p_length] = (tup1,tup2)\n",
    "    dic2 = {}\n",
    "    for length in dic:\n",
    "        dic2[length] = dic[length][0] / dic[length][1]\n",
    "    \n",
    "    dic2 = OrderedDict(sorted(dic2.items()))\n",
    "    dic2 = dict(dic2)\n",
    "    min_sentence = 0\n",
    "    min_val = float('inf')\n",
    "    for key in dic2:\n",
    "        if dic2[key] < min_val:\n",
    "            min_val = dic2[key]\n",
    "            min_sentence = key\n",
    "    \n",
    "    \n",
    "    return dic2,min_sentence,min_val"
   ]
  },
  {
   "cell_type": "code",
   "execution_count": 10,
   "metadata": {},
   "outputs": [
    {
     "name": "stderr",
     "output_type": "stream",
     "text": [
      "/anaconda3/lib/python3.6/site-packages/ipykernel_launcher.py:10: SettingWithCopyWarning: \n",
      "A value is trying to be set on a copy of a slice from a DataFrame.\n",
      "Try using .loc[row_indexer,col_indexer] = value instead\n",
      "\n",
      "See the caveats in the documentation: http://pandas.pydata.org/pandas-docs/stable/indexing.html#indexing-view-versus-copy\n",
      "  # Remove the CWD from sys.path while we load stuff.\n",
      "/anaconda3/lib/python3.6/site-packages/pandas/core/indexing.py:537: SettingWithCopyWarning: \n",
      "A value is trying to be set on a copy of a slice from a DataFrame.\n",
      "Try using .loc[row_indexer,col_indexer] = value instead\n",
      "\n",
      "See the caveats in the documentation: http://pandas.pydata.org/pandas-docs/stable/indexing.html#indexing-view-versus-copy\n",
      "  self.obj[item] = s\n",
      "/anaconda3/lib/python3.6/site-packages/ipykernel_launcher.py:18: SettingWithCopyWarning: \n",
      "A value is trying to be set on a copy of a slice from a DataFrame.\n",
      "Try using .loc[row_indexer,col_indexer] = value instead\n",
      "\n",
      "See the caveats in the documentation: http://pandas.pydata.org/pandas-docs/stable/indexing.html#indexing-view-versus-copy\n",
      "/anaconda3/lib/python3.6/site-packages/ipykernel_launcher.py:10: SettingWithCopyWarning: \n",
      "A value is trying to be set on a copy of a slice from a DataFrame.\n",
      "Try using .loc[row_indexer,col_indexer] = value instead\n",
      "\n",
      "See the caveats in the documentation: http://pandas.pydata.org/pandas-docs/stable/indexing.html#indexing-view-versus-copy\n",
      "  # Remove the CWD from sys.path while we load stuff.\n",
      "/anaconda3/lib/python3.6/site-packages/pandas/core/indexing.py:537: SettingWithCopyWarning: \n",
      "A value is trying to be set on a copy of a slice from a DataFrame.\n",
      "Try using .loc[row_indexer,col_indexer] = value instead\n",
      "\n",
      "See the caveats in the documentation: http://pandas.pydata.org/pandas-docs/stable/indexing.html#indexing-view-versus-copy\n",
      "  self.obj[item] = s\n"
     ]
    },
    {
     "name": "stdout",
     "output_type": "stream",
     "text": [
      "-714.2592592592592\n",
      "-922.4347826086956\n",
      "Act sent 0 716.1296296296297\n",
      "Predicted sent_0 682.6851851851852\n",
      "recid 1 below\n",
      "Act_sent_1 924.4130434782609\n",
      "Predicted sent 1 722.0652173913044\n"
     ]
    }
   ],
   "source": [
    "\n",
    "recid_0 = []\n",
    "min_sent_0 = 0\n",
    "act_sent_0 = 0\n",
    "min_sent_1 = 0\n",
    "act_sent_1 = 0\n",
    "recid_1 = []\n",
    "for i in range(100):\n",
    "    ind = int(np.random.rand()*len(data_filtered))\n",
    "\n",
    "    mapper,min_sentence,min_val = kyrie(data_filtered.iloc[ind],data_filtered)\n",
    "    actual_sent = data_filtered.iloc[ind][\"prison_length\"]\n",
    "    diff = min_sentence - actual_sent\n",
    "    if data_filtered.iloc[ind][\"is_recid\"] == 1:\n",
    "        recid_1.append(diff)\n",
    "        min_sent_1 += min_sentence\n",
    "        act_sent_1 += actual_sent\n",
    "    else:\n",
    "        recid_0.append(diff)\n",
    "        min_sent_0 += min_sentence\n",
    "        act_sent_0 += actual_sent   \n",
    "\n",
    "print(np.mean(recid_0))\n",
    "print(np.mean(recid_1))\n",
    "print(\"Act sent 0\", act_sent_0/len(recid_0))\n",
    "print(\"Predicted sent_0\",365*min_sent_0/len(recid_0))\n",
    "print(\"recid 1 below\")\n",
    "print(\"Act_sent_1\", act_sent_1/len(recid_1))\n",
    "print(\"Predicted sent 1\",365*min_sent_1/len(recid_1))\n",
    "\n",
    "# print(mapper)\n",
    "# print(min_sentence)\n",
    "# print(min_val)"
   ]
  },
  {
   "cell_type": "code",
   "execution_count": 11,
   "metadata": {},
   "outputs": [],
   "source": [
    "x = []\n",
    "y = []\n",
    "def plot(dictionary):\n",
    "    for key in dictionary:\n",
    "        val = dictionary[key]\n",
    "        x.append(key)\n",
    "        y.append(val)\n",
    "    \n",
    "    z = np.polyfit(x,y,2)\n",
    "    f = np.poly1d(z)\n",
    "    x_2 = np.linspace(min(x),max(x),20)\n",
    "    y_2 = f(x_2)\n",
    "    \n",
    "    sns.set_style(\"darkgrid\")\n",
    "    plt.plot(x,y,label = \"Real Data\")\n",
    "    plt.plot(x_2,y_2,label = \"Fitted Data\")\n",
    "    plt.xlabel(\"Sentence Length (Years)\")\n",
    "    plt.ylabel(\"Probability of Recidivism\")\n",
    "    plt.legend()\n",
    "    filename = str(ind) + \".png\"\n",
    "    plt.savefig(filename)"
   ]
  },
  {
   "cell_type": "code",
   "execution_count": 12,
   "metadata": {},
   "outputs": [
    {
     "data": {
      "image/png": "[encoded data removed]",
      "text/plain": [
       "<matplotlib.figure.Figure at 0x101b4aba8>"
      ]
     },
     "metadata": {},
     "output_type": "display_data"
    }
   ],
   "source": [
    "plot(mapper)"
   ]
  },
  {
   "cell_type": "code",
   "execution_count": 13,
   "metadata": {},
   "outputs": [],
   "source": [
    "def plot_hist(x):\n",
    "    sns.set_style(\"darkgrid\")\n",
    "    plt.hist(x,bins = \"auto\")"
   ]
  }
 ],
 "metadata": {
  "kernelspec": {
   "display_name": "Python 3",
   "language": "python",
   "name": "python3"
  },
  "language_info": {
   "codemirror_mode": {
    "name": "ipython",
    "version": 3
   },
   "file_extension": ".py",
   "mimetype": "text/x-python",
   "name": "python",
   "nbconvert_exporter": "python",
   "pygments_lexer": "ipython3",
   "version": "3.6.4"
  }
 },
 "nbformat": 4,
 "nbformat_minor": 2
}
